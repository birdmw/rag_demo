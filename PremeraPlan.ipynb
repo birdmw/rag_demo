{
 "cells": [
  {
   "cell_type": "code",
   "execution_count": 1,
   "id": "15fc5d0b-38ca-4119-abd8-2531f9213550",
   "metadata": {},
   "outputs": [],
   "source": [
    "import sqlite3\n",
    "import numpy as np\n",
    "from openai import OpenAI\n",
    "import os\n",
    "from tqdm.notebook import tqdm\n",
    "import time\n",
    "import requests\n",
    "from requests.exceptions import Timeout\n"
   ]
  },
  {
   "cell_type": "code",
   "execution_count": 2,
   "id": "9d7856d2-d261-4227-ad4d-b440e65d2288",
   "metadata": {},
   "outputs": [
    {
     "name": "stdout",
     "output_type": "stream",
     "text": [
      "Setting up OpenAI client...\n",
      "Initializing database...\n",
      "Creating tables if not exist...\n"
     ]
    },
    {
     "data": {
      "text/plain": [
       "<sqlite3.Cursor at 0x21b1657e540>"
      ]
     },
     "execution_count": 2,
     "metadata": {},
     "output_type": "execute_result"
    }
   ],
   "source": [
    " #Import the API key from config.py\n",
    "try:\n",
    "    import sys\n",
    "    sys.path.append('./guid/src')\n",
    "    from config import OPENAI_API_KEY\n",
    "except ImportError:\n",
    "    raise ImportError(\"Please create a config.py file with your OPENAI_API_KEY\")\n",
    "\n",
    "print(\"Setting up OpenAI client...\")\n",
    "client = OpenAI(api_key=OPENAI_API_KEY)\n",
    "\n",
    "print(\"Initializing database...\")\n",
    "conn = sqlite3.connect('premera_docs.sqlite')\n",
    "cursor = conn.cursor()\n",
    "\n",
    "print(\"Creating tables if not exist...\")\n",
    "cursor.execute('''\n",
    "CREATE TABLE IF NOT EXISTS document_chunks\n",
    "(id INTEGER PRIMARY KEY, content TEXT, embedding BLOB, shape TEXT, layer INTEGER)\n",
    "''')"
   ]
  },
  {
   "cell_type": "code",
   "execution_count": 3,
   "id": "41825b57-1805-4acd-9e50-c585c3c56f8e",
   "metadata": {},
   "outputs": [],
   "source": [
    "def read_and_chunk_file(file_path, doc_name, chunk_size=500, overlap=100):\n",
    "    print(f\"Reading file: {file_path}\")\n",
    "    chunks = []\n",
    "    #opening the file\n",
    "    with open(file_path, 'r', encoding='utf-8') as file:\n",
    "        content = file.read()\n",
    "    \n",
    "    print(f\"Chunking file (chunk size: {chunk_size}, overlap: {overlap})\")\n",
    "    start = 0\n",
    "    #looping through file chunk at a time\n",
    "    with tqdm(total=len(content), desc=\"Chunking progress\") as pbar:\n",
    "        while start < len(content):\n",
    "            end = start + chunk_size\n",
    "            chunk = content[start:end]\n",
    "            \n",
    "            if end < len(content):\n",
    "                #finds sentence end of chunk or paragraph end of chunk then moves end to that spot + 1 after new para or period\n",
    "                sentence_end = chunk.rfind('.')\n",
    "                paragraph_end = chunk.rfind('\\n')\n",
    "                if sentence_end > 0:\n",
    "                    end = start + sentence_end + 1\n",
    "                elif paragraph_end > 0:\n",
    "                    end = start + paragraph_end + 1\n",
    "            \n",
    "            chunks.append(f'For the {doc_name}, ' + content[start:end])\n",
    "            #new start will be the end but minus the overlap so we can include the overlap in the next chunk\n",
    "            start = end - overlap\n",
    "            pbar.update(end - start)\n",
    "    \n",
    "    print(f\"Created {len(chunks)} chunks\")\n",
    "    return chunks"
   ]
  },
  {
   "cell_type": "code",
   "execution_count": 4,
   "id": "8eb4601d-774d-440d-83e1-39080edf560d",
   "metadata": {},
   "outputs": [],
   "source": [
    "def summarize_pair(chunk1, chunk2):\n",
    "    system_message = \"You are an AI assistant tasked with summarizing text. Provide a concise summary that captures the key points of the given text.\"\n",
    "    user_message = f\"Summarize the following text:\\n\\n{chunk1}\\n\\n{chunk2}\"\n",
    "    \n",
    "    response = client.chat.completions.create(\n",
    "        model=\"gpt-4\",\n",
    "        messages=[\n",
    "            {\"role\": \"system\", \"content\": system_message},\n",
    "            {\"role\": \"user\", \"content\": user_message}\n",
    "        ]\n",
    "    )\n",
    "    return response.choices[0].message.content.strip()"
   ]
  },
  {
   "cell_type": "code",
   "execution_count": 5,
   "id": "e4f9c4d0-e1f8-42df-b954-bd51de051fa1",
   "metadata": {},
   "outputs": [],
   "source": [
    "def create_summary_pyramid(chunks, max_layers=5):\n",
    "    pyramid = [chunks]  # Bottom layer\n",
    "    \n",
    "    for layer in range(1, max_layers):\n",
    "        print(f\"Creating layer {layer}...\")\n",
    "        new_layer = []\n",
    "        for i in range(0, len(pyramid[-1]), 2):\n",
    "            if i + 1 < len(pyramid[-1]):\n",
    "                combined = summarize_pair(pyramid[-1][i], pyramid[-1][i+1])\n",
    "            else:\n",
    "                combined = pyramid[-1][i]  # If odd number, keep last chunk as is\n",
    "            new_layer.append(combined)\n",
    "        \n",
    "        pyramid.append(new_layer)\n",
    "        \n",
    "        if len(new_layer) == 1:\n",
    "            break  # We've reached the top of the pyramid\n",
    "    \n",
    "    return pyramid"
   ]
  },
  {
   "cell_type": "code",
   "execution_count": 6,
   "id": "ee320f57-398a-4641-8502-dce5d31b6fab",
   "metadata": {},
   "outputs": [],
   "source": [
    "def encode_text(text, max_retries=10, backoff_factor=2, timeout=30):\n",
    "    print(f\"Starting to encode text of length {len(text)}\")\n",
    "    for attempt in range(max_retries):\n",
    "        try:\n",
    "            print(f\"Attempt {attempt + 1} to encode text\")\n",
    "            response = client.embeddings.create(\n",
    "                model=\"text-embedding-ada-002\",\n",
    "                input=[text],\n",
    "                timeout=timeout\n",
    "            )\n",
    "            embedding = np.array(response.data[0].embedding)\n",
    "            print(f\"Successfully encoded text\")\n",
    "            return embedding, embedding.shape\n",
    "        except Timeout:\n",
    "            wait_time = backoff_factor * (2 ** attempt)\n",
    "            print(f\"Request timed out. Retrying in {wait_time} seconds...\")\n",
    "            time.sleep(wait_time)\n",
    "        except Exception as e:\n",
    "            wait_time = backoff_factor * (2 ** attempt)\n",
    "            print(f\"Error occurred: {e}. Retrying in {wait_time} seconds...\")\n",
    "            time.sleep(wait_time)\n",
    "    print(\"Failed to encode text after all attempts\")\n",
    "    raise Exception(\"Failed to encode text after all attempts\")"
   ]
  },
  {
   "cell_type": "code",
   "execution_count": 7,
   "id": "18ac97d7-8a69-46eb-880c-e86855f709fb",
   "metadata": {},
   "outputs": [],
   "source": [
    "def add_chunk(content, embedding, shape, layer):\n",
    "    cursor.execute('INSERT INTO document_chunks (content, embedding, shape, layer) VALUES (?, ?, ?, ?)',\n",
    "                   (content, ','.join(map(str, embedding)), str(shape), layer))\n",
    "    conn.commit()"
   ]
  },
  {
   "cell_type": "code",
   "execution_count": 8,
   "id": "2b069147-70db-4f8f-a262-c22031b692c0",
   "metadata": {},
   "outputs": [],
   "source": [
    "def retrieve_chunks(query, top_k=5):\n",
    "    print(f\"Retrieving chunks for query: '{query}'\")\n",
    "    query_embedding, query_shape = encode_text(query)\n",
    "    print(f\"Query embedding shape: {query_shape}\")\n",
    "    \n",
    "    cursor.execute('SELECT id, embedding, shape, layer FROM document_chunks')\n",
    "    results = cursor.fetchall()\n",
    "    \n",
    "    print(f\"Comparing query to {len(results)} stored chunks\")\n",
    "    similarities = []\n",
    "    for id, emb, shape, layer in tqdm(results, desc=\"Comparing embeddings\"):\n",
    "        #takes the embedding that was put in as a string and makes a list of comma seperated numbers and turns them to be floats\n",
    "        #it is then rehaped after being made into an np array to its original shape\n",
    "        emb_array = np.array([float(x) for x in emb.split(',')]).reshape(eval(shape))\n",
    "        \n",
    "        if emb_array.shape != query_shape:\n",
    "            print(f\"Warning: Embedding shape mismatch. Query: {query_shape}, Stored: {emb_array.shape}\")\n",
    "            continue\n",
    "        #this is how cosine similiarity is done, take dot product of both embeddings and divide by the euclidean norm of both multiplied\n",
    "        similarity = np.dot(query_embedding, emb_array) / (np.linalg.norm(query_embedding) * np.linalg.norm(emb_array))\n",
    "        similarities.append((id, similarity, layer))\n",
    "    \n",
    "    if not similarities:\n",
    "        print(\"No valid embeddings found for comparison.\")\n",
    "        return []\n",
    "    \n",
    "    # Sort by similarity and then by layer (preferring lower layers for equal similarity)\n",
    "    #sorted by similiarity and if they are the same takes the layer in desecending order which is why layer is negative\n",
    "    top_ids = sorted(similarities, key=lambda x: (x[1], -x[2]), reverse=True)[:top_k]\n",
    "    \n",
    "    placeholders = ','.join('?' for _ in top_ids)\n",
    "    cursor.execute(f'SELECT content, layer FROM document_chunks WHERE id IN ({placeholders})', \n",
    "                   [id for id, _, _ in top_ids])\n",
    "    return cursor.fetchall()"
   ]
  },
  {
   "cell_type": "code",
   "execution_count": 9,
   "id": "1ed21692-1358-4bc1-9e67-c219f9e80280",
   "metadata": {},
   "outputs": [
    {
     "name": "stdout",
     "output_type": "stream",
     "text": [
      "Reading and chunking file...\n",
      "Reading file: gold_summary.txt\n",
      "Chunking file (chunk size: 500, overlap: 100)\n"
     ]
    },
    {
     "data": {
      "application/vnd.jupyter.widget-view+json": {
       "model_id": "aa84ddb06f8d44b09247cf7cc34d2d3c",
       "version_major": 2,
       "version_minor": 0
      },
      "text/plain": [
       "Chunking progress:   0%|          | 0/4943 [00:00<?, ?it/s]"
      ]
     },
     "metadata": {},
     "output_type": "display_data"
    },
    {
     "name": "stdout",
     "output_type": "stream",
     "text": [
      "Created 16 chunks\n"
     ]
    }
   ],
   "source": [
    "print(\"Reading and chunking file...\")\n",
    "chunks = read_and_chunk_file('gold_summary.txt', 'gold plan')"
   ]
  },
  {
   "cell_type": "code",
   "execution_count": 10,
   "id": "91a724cd-d388-43a8-8980-587716efb5da",
   "metadata": {},
   "outputs": [
    {
     "name": "stdout",
     "output_type": "stream",
     "text": [
      "Creating summary pyramid...\n",
      "Creating layer 1...\n",
      "Creating layer 2...\n",
      "Creating layer 3...\n",
      "Creating layer 4...\n"
     ]
    }
   ],
   "source": [
    "print(\"Creating summary pyramid...\")\n",
    "pyramid = create_summary_pyramid(chunks)"
   ]
  },
  {
   "cell_type": "code",
   "execution_count": 11,
   "id": "8bdd4246-6fb1-424d-a2bc-b6d6f3b56be3",
   "metadata": {},
   "outputs": [
    {
     "name": "stdout",
     "output_type": "stream",
     "text": [
      "Processing chunks and adding to database...\n"
     ]
    },
    {
     "data": {
      "application/vnd.jupyter.widget-view+json": {
       "model_id": "89e5deca11cf4647954404832a1385e4",
       "version_major": 2,
       "version_minor": 0
      },
      "text/plain": [
       "Processing layer 0:   0%|          | 0/16 [00:00<?, ?it/s]"
      ]
     },
     "metadata": {},
     "output_type": "display_data"
    },
    {
     "name": "stdout",
     "output_type": "stream",
     "text": [
      "Encoding chunk (length: 497)\n",
      "Starting to encode text of length 497\n",
      "Attempt 1 to encode text\n",
      "Successfully encoded text\n",
      "Adding chunk to database (embedding shape: (1536,), layer: 0)\n",
      "Encoding chunk (length: 444)\n",
      "Starting to encode text of length 444\n",
      "Attempt 1 to encode text\n",
      "Successfully encoded text\n",
      "Adding chunk to database (embedding shape: (1536,), layer: 0)\n",
      "Encoding chunk (length: 421)\n",
      "Starting to encode text of length 421\n",
      "Attempt 1 to encode text\n",
      "Successfully encoded text\n",
      "Adding chunk to database (embedding shape: (1536,), layer: 0)\n",
      "Encoding chunk (length: 487)\n",
      "Starting to encode text of length 487\n",
      "Attempt 1 to encode text\n",
      "Successfully encoded text\n",
      "Adding chunk to database (embedding shape: (1536,), layer: 0)\n",
      "Encoding chunk (length: 433)\n",
      "Starting to encode text of length 433\n",
      "Attempt 1 to encode text\n",
      "Successfully encoded text\n",
      "Adding chunk to database (embedding shape: (1536,), layer: 0)\n",
      "Encoding chunk (length: 451)\n",
      "Starting to encode text of length 451\n",
      "Attempt 1 to encode text\n",
      "Successfully encoded text\n",
      "Adding chunk to database (embedding shape: (1536,), layer: 0)\n",
      "Encoding chunk (length: 427)\n",
      "Starting to encode text of length 427\n",
      "Attempt 1 to encode text\n",
      "Successfully encoded text\n",
      "Adding chunk to database (embedding shape: (1536,), layer: 0)\n",
      "Encoding chunk (length: 472)\n",
      "Starting to encode text of length 472\n",
      "Attempt 1 to encode text\n",
      "Successfully encoded text\n",
      "Adding chunk to database (embedding shape: (1536,), layer: 0)\n",
      "Encoding chunk (length: 479)\n",
      "Starting to encode text of length 479\n",
      "Attempt 1 to encode text\n",
      "Successfully encoded text\n",
      "Adding chunk to database (embedding shape: (1536,), layer: 0)\n",
      "Encoding chunk (length: 418)\n",
      "Starting to encode text of length 418\n",
      "Attempt 1 to encode text\n",
      "Successfully encoded text\n",
      "Adding chunk to database (embedding shape: (1536,), layer: 0)\n",
      "Encoding chunk (length: 404)\n",
      "Starting to encode text of length 404\n",
      "Attempt 1 to encode text\n",
      "Successfully encoded text\n",
      "Adding chunk to database (embedding shape: (1536,), layer: 0)\n",
      "Encoding chunk (length: 276)\n",
      "Starting to encode text of length 276\n",
      "Attempt 1 to encode text\n",
      "Successfully encoded text\n",
      "Adding chunk to database (embedding shape: (1536,), layer: 0)\n",
      "Encoding chunk (length: 442)\n",
      "Starting to encode text of length 442\n",
      "Attempt 1 to encode text\n",
      "Successfully encoded text\n",
      "Adding chunk to database (embedding shape: (1536,), layer: 0)\n",
      "Encoding chunk (length: 374)\n",
      "Starting to encode text of length 374\n",
      "Attempt 1 to encode text\n",
      "Successfully encoded text\n",
      "Adding chunk to database (embedding shape: (1536,), layer: 0)\n",
      "Encoding chunk (length: 515)\n",
      "Starting to encode text of length 515\n",
      "Attempt 1 to encode text\n",
      "Successfully encoded text\n",
      "Adding chunk to database (embedding shape: (1536,), layer: 0)\n",
      "Encoding chunk (length: 207)\n",
      "Starting to encode text of length 207\n",
      "Attempt 1 to encode text\n",
      "Successfully encoded text\n",
      "Adding chunk to database (embedding shape: (1536,), layer: 0)\n"
     ]
    },
    {
     "data": {
      "application/vnd.jupyter.widget-view+json": {
       "model_id": "ddc81208e9e746f598011ba2273cbae5",
       "version_major": 2,
       "version_minor": 0
      },
      "text/plain": [
       "Processing layer 1:   0%|          | 0/8 [00:00<?, ?it/s]"
      ]
     },
     "metadata": {},
     "output_type": "display_data"
    },
    {
     "name": "stdout",
     "output_type": "stream",
     "text": [
      "Encoding chunk (length: 688)\n",
      "Starting to encode text of length 688\n",
      "Attempt 1 to encode text\n",
      "Successfully encoded text\n",
      "Adding chunk to database (embedding shape: (1536,), layer: 1)\n",
      "Encoding chunk (length: 627)\n",
      "Starting to encode text of length 627\n",
      "Attempt 1 to encode text\n",
      "Successfully encoded text\n",
      "Adding chunk to database (embedding shape: (1536,), layer: 1)\n",
      "Encoding chunk (length: 608)\n",
      "Starting to encode text of length 608\n",
      "Attempt 1 to encode text\n",
      "Successfully encoded text\n",
      "Adding chunk to database (embedding shape: (1536,), layer: 1)\n",
      "Encoding chunk (length: 800)\n",
      "Starting to encode text of length 800\n",
      "Attempt 1 to encode text\n",
      "Successfully encoded text\n",
      "Adding chunk to database (embedding shape: (1536,), layer: 1)\n",
      "Encoding chunk (length: 631)\n",
      "Starting to encode text of length 631\n",
      "Attempt 1 to encode text\n",
      "Successfully encoded text\n",
      "Adding chunk to database (embedding shape: (1536,), layer: 1)\n",
      "Encoding chunk (length: 412)\n",
      "Starting to encode text of length 412\n",
      "Attempt 1 to encode text\n",
      "Successfully encoded text\n",
      "Adding chunk to database (embedding shape: (1536,), layer: 1)\n",
      "Encoding chunk (length: 569)\n",
      "Starting to encode text of length 569\n",
      "Attempt 1 to encode text\n",
      "Successfully encoded text\n",
      "Adding chunk to database (embedding shape: (1536,), layer: 1)\n",
      "Encoding chunk (length: 526)\n",
      "Starting to encode text of length 526\n",
      "Attempt 1 to encode text\n",
      "Successfully encoded text\n",
      "Adding chunk to database (embedding shape: (1536,), layer: 1)\n"
     ]
    },
    {
     "data": {
      "application/vnd.jupyter.widget-view+json": {
       "model_id": "1cb29dc16a91497288072f7e1c2514ce",
       "version_major": 2,
       "version_minor": 0
      },
      "text/plain": [
       "Processing layer 2:   0%|          | 0/4 [00:00<?, ?it/s]"
      ]
     },
     "metadata": {},
     "output_type": "display_data"
    },
    {
     "name": "stdout",
     "output_type": "stream",
     "text": [
      "Encoding chunk (length: 940)\n",
      "Starting to encode text of length 940\n",
      "Attempt 1 to encode text\n",
      "Successfully encoded text\n",
      "Adding chunk to database (embedding shape: (1536,), layer: 2)\n",
      "Encoding chunk (length: 849)\n",
      "Starting to encode text of length 849\n",
      "Attempt 1 to encode text\n",
      "Successfully encoded text\n",
      "Adding chunk to database (embedding shape: (1536,), layer: 2)\n",
      "Encoding chunk (length: 678)\n",
      "Starting to encode text of length 678\n",
      "Attempt 1 to encode text\n",
      "Successfully encoded text\n",
      "Adding chunk to database (embedding shape: (1536,), layer: 2)\n",
      "Encoding chunk (length: 558)\n",
      "Starting to encode text of length 558\n",
      "Attempt 1 to encode text\n",
      "Successfully encoded text\n",
      "Adding chunk to database (embedding shape: (1536,), layer: 2)\n"
     ]
    },
    {
     "data": {
      "application/vnd.jupyter.widget-view+json": {
       "model_id": "fd4d39d400814d9cbba7818f80c43d94",
       "version_major": 2,
       "version_minor": 0
      },
      "text/plain": [
       "Processing layer 3:   0%|          | 0/2 [00:00<?, ?it/s]"
      ]
     },
     "metadata": {},
     "output_type": "display_data"
    },
    {
     "name": "stdout",
     "output_type": "stream",
     "text": [
      "Encoding chunk (length: 923)\n",
      "Starting to encode text of length 923\n",
      "Attempt 1 to encode text\n",
      "Successfully encoded text\n",
      "Adding chunk to database (embedding shape: (1536,), layer: 3)\n",
      "Encoding chunk (length: 645)\n",
      "Starting to encode text of length 645\n",
      "Attempt 1 to encode text\n",
      "Successfully encoded text\n",
      "Adding chunk to database (embedding shape: (1536,), layer: 3)\n"
     ]
    },
    {
     "data": {
      "application/vnd.jupyter.widget-view+json": {
       "model_id": "d0f3cc4931f04b258aa5bbc113a92c31",
       "version_major": 2,
       "version_minor": 0
      },
      "text/plain": [
       "Processing layer 4:   0%|          | 0/1 [00:00<?, ?it/s]"
      ]
     },
     "metadata": {},
     "output_type": "display_data"
    },
    {
     "name": "stdout",
     "output_type": "stream",
     "text": [
      "Encoding chunk (length: 640)\n",
      "Starting to encode text of length 640\n",
      "Attempt 1 to encode text\n",
      "Successfully encoded text\n",
      "Adding chunk to database (embedding shape: (1536,), layer: 4)\n",
      "Added 31 chunks to the database.\n"
     ]
    }
   ],
   "source": [
    "print(\"Processing chunks and adding to database...\")\n",
    "for layer, layer_chunks in enumerate(pyramid):\n",
    "    for chunk in tqdm(layer_chunks, desc=f\"Processing layer {layer}\"):\n",
    "        print(f\"Encoding chunk (length: {len(chunk)})\")\n",
    "        embedding, shape = encode_text(chunk)\n",
    "        print(f\"Adding chunk to database (embedding shape: {shape}, layer: {layer})\")\n",
    "        add_chunk(chunk, embedding, shape, layer)\n",
    "\n",
    "print(f\"Added {sum(len(layer) for layer in pyramid)} chunks to the database.\")"
   ]
  },
  {
   "cell_type": "code",
   "execution_count": 12,
   "id": "003f999d-7937-4444-8535-8509f0ba3cde",
   "metadata": {},
   "outputs": [
    {
     "name": "stdout",
     "output_type": "stream",
     "text": [
      "Testing retrieval...\n",
      "Retrieving chunks for query: 'how much would i pay for hospice care?'\n",
      "Starting to encode text of length 38\n",
      "Attempt 1 to encode text\n",
      "Successfully encoded text\n",
      "Query embedding shape: (1536,)\n",
      "Comparing query to 62 stored chunks\n"
     ]
    },
    {
     "data": {
      "application/vnd.jupyter.widget-view+json": {
       "model_id": "0e25f413129c44c7892fc98890e01621",
       "version_major": 2,
       "version_minor": 0
      },
      "text/plain": [
       "Comparing embeddings:   0%|          | 0/62 [00:00<?, ?it/s]"
      ]
     },
     "metadata": {},
     "output_type": "display_data"
    },
    {
     "name": "stdout",
     "output_type": "stream",
     "text": [
      "\n",
      "Relevant chunks for the query:\n",
      "Chunk 1 (Layer 1):\n",
      "The silver plan covers hospitalization including organ and tissue transplants, maternity and newborn care, mental health and substance use disorder services, and prescription drugs. Coverage generally applies after meeting a deductible, then a 30% coinsurance is in place. Prenatal, postnatal and abortion services are provided free of charge. Mental health visits have a $65 copay per visit, and preferred generic prescription drugs have a $25 copay for a 30-day supply....\n",
      "\n",
      "Chunk 2 (Layer 0):\n",
      "For the gold plan, ered for 10 visits per calendar year (PCY) and acupuncture for 12 visits PCY, both with a $15 copay.\n",
      "\n",
      "Emergency Services: Emergency care is covered after the deductible with a 30% coinsurance, and the copay is waived if you are directly admitted to an inpatient facility. Ambulance transportation, both air and ground, is covered after the deductible with a 30% coinsurance.\n",
      "\n",
      "Hospitalization: Inpatient services are covered after the deductible with a 30% coinsurance....\n",
      "\n",
      "Chunk 3 (Layer 1):\n",
      "The Gold Plan covers outpatient services and emergency care after the deductible with a 30% coinsurance. The plan enrollee must pay a $15 copay after the first two PCP visits and for each chiropractic adjustment or acupuncture session (up to 10 and 12 per year, respectively). Specialist consultations and urgent care visits require a $45 copay. If the patient is admitted to the hospital directly from emergency care, the copay is waived. Hospital inpatient services are also covered after the deduc...\n",
      "\n",
      "Chunk 4 (Layer 1):\n",
      "The gold plan covers various healthcare services. For hospitalization, including organ and tissue transplants, inpatient services are covered after the deductible with a 30% coinsurance. Maternity and newborn care, including inpatient delivery services and abortion services, are covered without any charges. Mental health and substance use disorder services have a $45 copay per visit, and for inpatient hospital and outpatient services, the plan covers costs after the deductible with a 30% coinsur...\n",
      "\n",
      "Chunk 5 (Layer 2):\n",
      "The Gold Plan offers coverage for various healthcare services including hospitalization, maternity and newborn care, mental health services, prescription drugs, and rehabilitative services. After the deductible is met, inpatient services and transplants require a 30% coinsurance, while abortions and maternity care are covered without any charges. Mental health and substance use disorder services have a $45 copay per visit. Prescription drugs have differing amounts for copay and coinsurance, depe...\n",
      "\n",
      "Closing database connection...\n",
      "Done!\n"
     ]
    }
   ],
   "source": [
    "print(\"Testing retrieval...\")\n",
    "test_query = \"how much would i pay for hospice care?\"\n",
    "relevant_chunks = retrieve_chunks(test_query)\n",
    "\n",
    "print(\"\\nRelevant chunks for the query:\")\n",
    "for i, (chunk, layer) in enumerate(relevant_chunks, 1):\n",
    "    print(f\"Chunk {i} (Layer {layer}):\")\n",
    "    print(chunk[:500] + \"...\")  # Print first 200 characters of each chunk\n",
    "    print()\n",
    "\n",
    "print(\"Closing database connection...\")\n",
    "#conn.close()\n",
    "print(\"Done!\")"
   ]
  },
  {
   "cell_type": "code",
   "execution_count": 13,
   "id": "20ebf773-61da-4bd2-aa6a-820e0d30a984",
   "metadata": {},
   "outputs": [],
   "source": [
    "def generate_final_answer(original_query, max_chunk_length=500, verbose=False):\n",
    "    relevant_chunks = retrieve_chunks(original_query)\n",
    "    combined_context = \" \".join([chunk[0][:max_chunk_length] for chunk in relevant_chunks])\n",
    "    system_message = \"\"\"You are an AI assistant tasked with answering questions about a healthcare plan offered by a healthcare company based on provided context. Use the given information to answer the question accurately and concisely.\"\"\"\n",
    "\n",
    "    user_message = f\"\"\"Context from healthcare plan document:\n",
    "\n",
    "{combined_context}\n",
    "\n",
    "Based on this context, please answer the following question:\n",
    "{original_query}\n",
    "\n",
    "Provide a concise answer that directly addresses the question using only the information given in the context.\"\"\"\n",
    "\n",
    "    try:\n",
    "        response = client.chat.completions.create(\n",
    "            model=\"gpt-4\",\n",
    "            messages=[\n",
    "                {\"role\": \"system\", \"content\": system_message},\n",
    "                {\"role\": \"user\", \"content\": user_message}\n",
    "            ]\n",
    "        )\n",
    "        final_answer = response.choices[0].message.content.strip()\n",
    "        return final_answer\n",
    "    except Exception as e:\n",
    "        if verbose:\n",
    "            print(f\"Error in generating final answer: {e}\")\n",
    "        return \"Unable to generate a final answer due to an error.\"\n"
   ]
  },
  {
   "cell_type": "code",
   "execution_count": 16,
   "id": "5e355195-2724-4d0e-b4e3-f67fe2dbb832",
   "metadata": {},
   "outputs": [
    {
     "name": "stdout",
     "output_type": "stream",
     "text": [
      "Retrieving chunks for query: 'how much do i pay for doctors office visits between the silver and gold plan?'\n",
      "Starting to encode text of length 77\n",
      "Attempt 1 to encode text\n",
      "Successfully encoded text\n",
      "Query embedding shape: (1536,)\n",
      "Comparing query to 62 stored chunks\n"
     ]
    },
    {
     "data": {
      "application/vnd.jupyter.widget-view+json": {
       "model_id": "ad1e4c3c0c3b44d7b24d68cb79aed8d1",
       "version_major": 2,
       "version_minor": 0
      },
      "text/plain": [
       "Comparing embeddings:   0%|          | 0/62 [00:00<?, ?it/s]"
      ]
     },
     "metadata": {},
     "output_type": "display_data"
    },
    {
     "data": {
      "text/plain": [
       "'For the silver plan, the first two designated PCP office visits are fully covered, after which a $25 copay applies. Similarly, for the gold plan, the first two designated PCP office visits are also covered, but after that, a $15 co-pay applies.'"
      ]
     },
     "execution_count": 16,
     "metadata": {},
     "output_type": "execute_result"
    }
   ],
   "source": [
    "generate_final_answer(\"how much do i pay for doctors office visits between the silver and gold plan?\", 1500, True)"
   ]
  },
  {
   "cell_type": "code",
   "execution_count": 15,
   "id": "a5c895ef-9bd6-4460-91eb-9b484ac586b0",
   "metadata": {},
   "outputs": [
    {
     "name": "stdout",
     "output_type": "stream",
     "text": [
      "['For the gold plan, Preferred Gold EPO 1500 Plan Summary\\nThe Preferred Gold EPO 1500 Plan by Premera Blue Cross, effective January 1, 2024, is designed for individuals and families in Washington. This Exclusive Provider Organization (EPO) plan mandates the use of the Individual Signature Network of providers, with care outside the network not covered except in emergencies.\\n\\nKey Financial Details\\nThe plan has an annual deductible of $1,500 per individual and $3,000 per family (in-network only).', 'For the gold plan, \\nThe plan has an annual deductible of $1,500 per individual and $3,000 per family (in-network only). After meeting the deductible, you pay a coinsurance of 30%. The out-of-pocket maximum, which includes the deductible, coinsurance, and copays, is $6,800 per individual and $13,600 per family.\\n\\nEssential Health Benefits\\nAmbulatory Patient Services: Outpatient services are covered after the deductible with a 30% coinsurance.', 'For the gold plan, atory Patient Services: Outpatient services are covered after the deductible with a 30% coinsurance. For professional visits, the first two designated PCP office visits are covered, then a $15 copay applies. Specialist visits and urgent care visits require a $45 copay. Chiropractic adjustments are covered for 10 visits per calendar year (PCY) and acupuncture for 12 visits PCY, both with a $15 copay.', 'For the gold plan, ered for 10 visits per calendar year (PCY) and acupuncture for 12 visits PCY, both with a $15 copay.\\n\\nEmergency Services: Emergency care is covered after the deductible with a 30% coinsurance, and the copay is waived if you are directly admitted to an inpatient facility. Ambulance transportation, both air and ground, is covered after the deductible with a 30% coinsurance.\\n\\nHospitalization: Inpatient services are covered after the deductible with a 30% coinsurance.', 'For the gold plan, rance.\\n\\nHospitalization: Inpatient services are covered after the deductible with a 30% coinsurance. Organ and tissue transplants follow the same coverage rules as professional visits and services.\\n\\nMaternity and Newborn Care: Prenatal and postnatal care are covered at no charge. Inpatient delivery and services are covered after the deductible with a 30% coinsurance. Abortion services are provided at no charge.', 'For the gold plan, re covered after the deductible with a 30% coinsurance. Abortion services are provided at no charge.\\n\\nMental Health and Substance Use Disorder Services: Office and home visits for mental and behavioral health have a $45 copay per visit. Inpatient hospital services are covered after the deductible with a 30% coinsurance, as are outpatient services.\\n\\nPrescription Drugs: Preferred generic drugs have a $10 copay for a 30-day supply.', 'For the gold plan, patient services.\\n\\nPrescription Drugs: Preferred generic drugs have a $10 copay for a 30-day supply. Preferred brand drugs are covered after the deductible with a 30% coinsurance, and non-preferred drugs after the deductible with a 50% coinsurance. Specialty drugs also have a 50% coinsurance after the deductible. Mail order is available for a 90-day supply with copay x3. The drug list for this plan is M4.', 'For the gold plan, tible. Mail order is available for a 90-day supply with copay x3. The drug list for this plan is M4.\\n\\nRehabilitative and Habilitative Services and Devices: Inpatient rehabilitation is covered for 30 days PCY after the deductible with a 30% coinsurance. Physical, speech, occupational, and massage therapy are covered for 25 visits combined PCY with a $45 copay per visit. Durable medical equipment is covered after the deductible with a 30% coinsurance.', 'For the gold plan, 5 copay per visit. Durable medical equipment is covered after the deductible with a 30% coinsurance.\\n\\nLaboratory Services: This includes x-ray, pathology, imaging, diagnostic, and standard ultrasound, all covered after the deductible with a 30% coinsurance. Major imaging services such as MRI, CT, and PET scans are also covered after the deductible with a 30% coinsurance, and preapproval is required for certain services. Mammograms are covered at no charge.', 'For the gold plan,  coinsurance, and preapproval is required for certain services. Mammograms are covered at no charge.\\n\\nPreventive and Wellness Services: Screenings, exams, and vaccinations are covered in full.\\n\\nPediatric Vision (Under 19 Years): One eye exam per calendar year is covered with a $30 copay. Eyewear, including one pair of glasses or a 12-month supply of contacts per calendar year, is covered in full.', 'For the gold plan, ncluding one pair of glasses or a 12-month supply of contacts per calendar year, is covered in full.\\n\\nVirtual Care\\nVirtual care services through Doctor On Demand for general medicine follow the same coverage rules as professional visits and services. Mental health services, including substance use disorder treatments through Boulder Care or Workit Health, are also covered similarly.', 'For the gold plan, substance use disorder treatments through Boulder Care or Workit Health, are also covered similarly.\\n\\nPlan Availability\\nThis plan is available to residents of Franklin, Grays Harbor, King, Kitsap, Pacific, Pierce, Spokane, and Yakima counties in Washington.', 'For the gold plan, f Franklin, Grays Harbor, King, Kitsap, Pacific, Pierce, Spokane, and Yakima counties in Washington.\\n\\nExclusions and Limitations\\nCertain services are not covered under this plan, including services not medically necessary, cosmetic or reconstructive surgery (unless specifically provided), experimental or investigative services, assisted reproduction, and weight loss treatments (surgery, drugs, foods, exercise programs).', \"For the gold plan, vices, assisted reproduction, and weight loss treatments (surgery, drugs, foods, exercise programs). Services exceeding specified benefit maximums, those payable by other types of insurance, services beyond the provider's license, services received when not covered by the plan, sexual dysfunction treatments, and sterilization reversal are also excluded.\", 'For the gold plan, ot covered by the plan, sexual dysfunction treatments, and sterilization reversal are also excluded.\\n\\nContact Information\\nFor enrollment information or questions about Premera Blue Cross, visit Premera, call 877-Premera (877-773-6372), or talk to a licensed professional agent. More detailed information and policies are available on the Premera website.\\n\\nAdditional Resources\\nFor a complete list of exclusions, required preapprovals, and more detailed benefit booklets, visit Premera Exclusions.', 'For the gold plan,  of exclusions, required preapprovals, and more detailed benefit booklets, visit Premera Exclusions. For a summary of benefits and medical glossary, visit Summary of Benefits and Coverage.']\n"
     ]
    }
   ],
   "source": [
    "print(chunks)"
   ]
  },
  {
   "cell_type": "code",
   "execution_count": null,
   "id": "99fcb3e6-0e81-4503-b9c9-9689e6094474",
   "metadata": {},
   "outputs": [],
   "source": []
  }
 ],
 "metadata": {
  "kernelspec": {
   "display_name": "Python 3 (ipykernel)",
   "language": "python",
   "name": "python3"
  },
  "language_info": {
   "codemirror_mode": {
    "name": "ipython",
    "version": 3
   },
   "file_extension": ".py",
   "mimetype": "text/x-python",
   "name": "python",
   "nbconvert_exporter": "python",
   "pygments_lexer": "ipython3",
   "version": "3.12.4"
  }
 },
 "nbformat": 4,
 "nbformat_minor": 5
}
